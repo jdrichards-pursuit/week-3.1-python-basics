{
 "cells": [
  {
   "cell_type": "markdown",
   "metadata": {},
   "source": [
    "## Test Your Knowledge\n",
    "\n",
    "Complete the following exercises to test your knowledge of what you've just learned.\n",
    "When necessary, use the [Lesson](./lesson.ipynb) as a reference."
   ]
  },
  {
   "cell_type": "markdown",
   "metadata": {},
   "source": [
    "\n",
    "1. Define a function called 'add' that takes two parameters and returns their sum.\n",
    "Then call this function with arguments 5 and 3, and print the result."
   ]
  },
  {
   "cell_type": "code",
   "execution_count": null,
   "metadata": {},
   "outputs": [],
   "source": [
    "# Your code here\n",
    "\n",
    "\n",
    "\n",
    "# Uncomment below to test\n",
    "# add(5, 3)\n",
    "# add(10, 20)"
   ]
  },
  {
   "cell_type": "markdown",
   "metadata": {},
   "source": [
    "2. Write a function called 'is_even' that takes a number and returns True if the number is even, otherwise returns False.\n"
   ]
  },
  {
   "cell_type": "code",
   "execution_count": null,
   "metadata": {},
   "outputs": [],
   "source": [
    "# Your code here\n",
    "\n",
    "\n",
    "# Uncomment below to test\n",
    "# is_even(4)\n",
    "# is_even(7)\n",
    "\n"
   ]
  },
  {
   "cell_type": "markdown",
   "metadata": {},
   "source": [
    "3. Write a function called 'factorial' that takes a non-negative integer and returns its factorial.\n",
    "\n",
    "\n"
   ]
  },
  {
   "cell_type": "code",
   "execution_count": null,
   "metadata": {},
   "outputs": [],
   "source": [
    "# Your code here\n",
    "\n",
    "\n",
    "# Uncomment below to test\n",
    "# factorial(5)\n",
    "# factorial(0)\n",
    "# factorial(7)"
   ]
  },
  {
   "cell_type": "markdown",
   "metadata": {},
   "source": [
    "4. Write a function called 'is_prime' that takes an integer and returns True if the number is prime, otherwise returns False.\n",
    "\n",
    "\n"
   ]
  },
  {
   "cell_type": "code",
   "execution_count": null,
   "metadata": {},
   "outputs": [],
   "source": [
    "# Your code here\n",
    "\n",
    "\n",
    "# Uncomment below to test\n",
    "# is_prime(2)\n",
    "# is_prime(10)\n",
    "# is_prime(17)"
   ]
  },
  {
   "cell_type": "markdown",
   "metadata": {},
   "source": [
    "5. Write a function called 'fizzbuzz' that takes a number and returns 'Fizz' if the number is divisible by 3, 'Buzz' if it is divisible by 5, 'FizzBuzz' if it is divisible by both 3 and 5, and the number itself if none of these conditions are met.\n",
    "\n",
    "\n",
    "\n"
   ]
  },
  {
   "cell_type": "code",
   "execution_count": null,
   "metadata": {},
   "outputs": [],
   "source": [
    "# Your code here\n",
    "\n",
    "\n",
    "# Uncomment below to test\n",
    "# fizzbuzz(3)\n",
    "# fizzbuzz(5)\n",
    "# fizzbuzz(15)"
   ]
  },
  {
   "cell_type": "markdown",
   "metadata": {},
   "source": [
    "6. Write a function called 'count_vowels' that takes a string and returns the number of vowels in the string.\n",
    "\n",
    "\n",
    "\n",
    "\n"
   ]
  },
  {
   "cell_type": "code",
   "execution_count": null,
   "metadata": {},
   "outputs": [],
   "source": [
    "# Your code here\n",
    "\n",
    "\n",
    "# Uncomment below to test\n",
    "# count_vowels(\"Hello World\")\n",
    "# count_vowels(\"Python Programming\")"
   ]
  }
 ],
 "metadata": {
  "language_info": {
   "name": "python"
  }
 },
 "nbformat": 4,
 "nbformat_minor": 2
}
