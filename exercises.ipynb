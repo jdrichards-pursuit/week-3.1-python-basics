{
 "cells": [
  {
   "cell_type": "markdown",
   "metadata": {},
   "source": [
    "# Exercises Based on What You've Just Learned\n"
   ]
  },
  {
   "cell_type": "markdown",
   "metadata": {},
   "source": [
    " 1. Python Syntax Basics\n",
    "\n",
    " a) Write a Python function that takes a name as an argument and prints a greeting.\n",
    "#    Use proper indentation and the print() function.\n",
    "\n",
    "# b) Write a single-line comment and a multi-line comment in Python.\n",
    "\n",
    "# 2. Functions in Python\n",
    "\n",
    "# a) Define a function called 'add' that takes two parameters and returns their sum.\n",
    "#    Then call this function with arguments 5 and 3, and print the result.\n",
    "\n",
    "# b) Create a function with a default argument and demonstrate its usage.\n",
    "\n",
    "# 3. Control Flow Statements\n",
    "\n",
    "# a) Write an if-elif-else statement that categorizes a given number as \"positive\",\n",
    "#    \"negative\", or \"zero\". Use the logical operators 'and' or 'or' in your conditions.\n",
    "\n",
    "# 4. f-Strings\n",
    "\n",
    "# a) Create variables for a person's name and age, then use an f-string to print\n",
    "#    a sentence introducing the person.\n",
    "\n",
    "# b) Using an f-string, format a floating-point number to two decimal places."
   ]
  },
  {
   "cell_type": "code",
   "execution_count": null,
   "metadata": {},
   "outputs": [],
   "source": [
    " # 1. Python Syntax Basics\n",
    "\n",
    "# a) Write a Python function that takes a name as an argument and prints a greeting.\n",
    "#    Use proper indentation and the print() function.\n",
    "\n",
    "# b) Write a single-line comment and a multi-line comment in Python.\n",
    "\n",
    "# 2. Functions in Python\n",
    "\n",
    "# a) Define a function called 'add' that takes two parameters and returns their sum.\n",
    "#    Then call this function with arguments 5 and 3, and print the result.\n",
    "\n",
    "# b) Create a function with a default argument and demonstrate its usage.\n",
    "\n",
    "# 3. Control Flow Statements\n",
    "\n",
    "# a) Write an if-elif-else statement that categorizes a given number as \"positive\",\n",
    "#    \"negative\", or \"zero\". Use the logical operators 'and' or 'or' in your conditions.\n",
    "\n",
    "# 4. f-Strings\n",
    "\n",
    "# a) Create variables for a person's name and age, then use an f-string to print\n",
    "#    a sentence introducing the person.\n",
    "\n",
    "# b) Using an f-string, format a floating-point number to two decimal places."
   ]
  }
 ],
 "metadata": {
  "language_info": {
   "name": "python"
  }
 },
 "nbformat": 4,
 "nbformat_minor": 2
}
