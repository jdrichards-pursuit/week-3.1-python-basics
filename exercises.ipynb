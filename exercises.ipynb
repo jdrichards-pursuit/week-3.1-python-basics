{
 "cells": [
  {
   "cell_type": "markdown",
   "metadata": {},
   "source": [
    "## Test Your Knowledge\n",
    "\n",
    "Complete the following exercises to test your knowledge of what you've just learned.\n",
    "When necessary, use the [Lesson](./lesson.ipynb) as a reference."
   ]
  },
  {
   "cell_type": "markdown",
   "metadata": {},
   "source": [
    "\n",
    "1. Define a function called 'add' that takes two parameters and returns their sum.\n",
    "Then call this function with arguments 5 and 3, and print the result."
   ]
  },
  {
   "cell_type": "code",
   "execution_count": null,
   "metadata": {},
   "outputs": [],
   "source": [
    "# Your code here\n",
    "\n",
    "\n",
    "\n",
    "# Uncomment below to test\n",
    "# add(5, 3)\n",
    "# add(10, 20)"
   ]
  }
 ],
 "metadata": {
  "language_info": {
   "name": "python"
  }
 },
 "nbformat": 4,
 "nbformat_minor": 2
}
