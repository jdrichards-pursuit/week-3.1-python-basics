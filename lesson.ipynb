{
 "cells": [
  {
   "cell_type": "markdown",
   "metadata": {},
   "source": [
    "# Python for JavaScript Developers: Syntax and Basics\n",
    "\n",
    "## 1. Python Syntax Basics\n",
    "\n",
    "### 1.1 Indentation vs. Curly Braces\n",
    "\n",
    "Python uses indentation to define code blocks, unlike JavaScript's curly braces `{}`. This makes the code more readable but requires careful attention to spacing.\n",
    "\n",
    "Python:"
   ]
  },
  {
   "cell_type": "code",
   "execution_count": null,
   "metadata": {},
   "outputs": [],
   "source": [
    "def greet(name):\n",
    "    if name:\n",
    "        print(f\"Hello, {name}!\")\n",
    "    else:\n",
    "        print(\"Hello, world!\")"
   ]
  },
  {
   "cell_type": "markdown",
   "metadata": {},
   "source": [
    "JavaScript:\n",
    "\n",
    "```javascript\n",
    "function greet(name) {\n",
    "    if (name) {\n",
    "        console.log(`Hello, ${name}!`);\n",
    "    } else {\n",
    "        console.log(\"Hello, world!\");\n",
    "    }\n",
    "}\n",
    "```"
   ]
  },
  {
   "cell_type": "markdown",
   "metadata": {},
   "source": [
    "### 1.2 Printing Output\n",
    "\n",
    "Python uses the `print()` function, while JavaScript uses `console.log()`.\n",
    "\n",
    "Python:"
   ]
  },
  {
   "cell_type": "code",
   "execution_count": null,
   "metadata": {},
   "outputs": [],
   "source": [
    "print(\"Hello, world!\")"
   ]
  },
  {
   "cell_type": "markdown",
   "metadata": {},
   "source": [
    "JavaScript:\n",
    "\n",
    "```javascript\n",
    "console.log(\"Hello, world!\");\n",
    "```"
   ]
  },
  {
   "cell_type": "markdown",
   "metadata": {},
   "source": [
    "### 1.3 Comments\n",
    "\n",
    "Single-line comments in Python start with `#`, while in JavaScript they start with `//`.\n",
    "\n",
    "Python:"
   ]
  },
  {
   "cell_type": "code",
   "execution_count": null,
   "metadata": {},
   "outputs": [],
   "source": [
    "# This is a single-line comment in Python\n"
   ]
  },
  {
   "cell_type": "markdown",
   "metadata": {},
   "source": [
    "JavaScript:\n",
    "\n",
    "```javascript\n",
    "// This is a single-line comment in JavaScript\n",
    "```"
   ]
  },
  {
   "cell_type": "markdown",
   "metadata": {},
   "source": [
    "Multi-line comments in Python use triple quotes `'''` or `\"\"\"`, while JavaScript uses `/* */`.\n",
    "\n",
    "Python:"
   ]
  },
  {
   "cell_type": "code",
   "execution_count": null,
   "metadata": {},
   "outputs": [],
   "source": [
    "'''\n",
    "This is a multi-line\n",
    "comment in Python\n",
    "'''"
   ]
  },
  {
   "cell_type": "markdown",
   "metadata": {},
   "source": [
    "JavaScript:\n",
    "\n",
    "```javascript\n",
    "/*\n",
    "This is a multi-line\n",
    "comment in JavaScript\n",
    "*/\n",
    "```"
   ]
  },
  {
   "cell_type": "markdown",
   "metadata": {},
   "source": [
    "## 2. Functions in Python\n",
    "\n",
    "### 2.1 Defining Functions\n",
    "\n",
    "Python uses the `def` keyword to define functions, while JavaScript uses the `function` keyword.\n",
    "\n",
    "Python:"
   ]
  },
  {
   "cell_type": "code",
   "execution_count": null,
   "metadata": {},
   "outputs": [],
   "source": [
    "def greet(name):\n",
    "    return f\"Hello, {name}!\""
   ]
  },
  {
   "cell_type": "markdown",
   "metadata": {},
   "source": [
    "JavaScript:\n",
    "\n",
    "```javascript\n",
    "function greet(name) {\n",
    "    return `Hello, ${name}!`;\n",
    "}\n",
    "```"
   ]
  },
  {
   "cell_type": "markdown",
   "metadata": {},
   "source": [
    "### 2.2 Function Parameters and Default Arguments\n",
    "\n",
    "Both Python and JavaScript support default arguments, but the syntax differs slightly.\n",
    "\n",
    "Python:"
   ]
  },
  {
   "cell_type": "code",
   "execution_count": null,
   "metadata": {},
   "outputs": [],
   "source": [
    "def greet(name=\"World\"):\n",
    "    return f\"Hello, {name}!\"\n",
    "\n",
    "print(greet())  # Output: Hello, World!\n",
    "print(greet(\"Alice\"))  # Output: Hello, Alice!"
   ]
  },
  {
   "cell_type": "markdown",
   "metadata": {},
   "source": [
    "JavaScript:\n",
    "\n",
    "```javascript\n",
    "function greet(name = \"World\") {\n",
    "    return `Hello, ${name}!`;\n",
    "}\n",
    "\n",
    "console.log(greet());  // Output: Hello, World!\n",
    "console.log(greet(\"Alice\"));  // Output: Hello, Alice!\n",
    "```"
   ]
  },
  {
   "cell_type": "markdown",
   "metadata": {},
   "source": [
    "### 2.3 Return Statements\n",
    "\n",
    "Return statements work similarly in both languages, but Python doesn't require parentheses.\n",
    "\n",
    "Python:"
   ]
  },
  {
   "cell_type": "code",
   "execution_count": null,
   "metadata": {},
   "outputs": [],
   "source": [
    "def add(a, b):\n",
    "    return a + b"
   ]
  },
  {
   "cell_type": "markdown",
   "metadata": {},
   "source": [
    "JavaScript:\n",
    "\n",
    "```javascript\n",
    "function add(a, b) {\n",
    "    return (a + b);\n",
    "}\n",
    "```\n"
   ]
  },
  {
   "cell_type": "markdown",
   "metadata": {},
   "source": [
    "### 2.4 Key Differences from JavaScript Functions\n",
    "\n",
    "1. No `function` keyword in Python\n",
    "2. Indentation defines the function body in Python, not curly braces\n",
    "3. Python uses dynamic typing, so you don't need to declare parameter types\n",
    "\n",
    "## 3. Control Flow Statements\n",
    "\n",
    "### 3.1 Conditional Statements\n",
    "\n",
    "Python uses `if`, `elif`, and `else`, while JavaScript uses `if`, `else if`, and `else`.\n",
    "\n",
    "Python:"
   ]
  },
  {
   "cell_type": "code",
   "execution_count": null,
   "metadata": {},
   "outputs": [],
   "source": [
    "x = 10\n",
    "if x > 15:\n",
    "    print(\"x is greater than 15\")\n",
    "elif x > 5:\n",
    "    print(\"x is greater than 5 but not greater than 15\")\n",
    "else:\n",
    "    print(\"x is 5 or less\")"
   ]
  },
  {
   "cell_type": "markdown",
   "metadata": {},
   "source": [
    "JavaScript:\n",
    "\n",
    "```javascript\n",
    "let x = 10;\n",
    "if (x > 15) {\n",
    "    console.log(\"x is greater than 15\");\n",
    "} else if (x > 5) {\n",
    "    console.log(\"x is greater than 5 but not greater than 15\");\n",
    "} else {\n",
    "    console.log(\"x is 5 or less\");\n",
    "}\n",
    "```"
   ]
  },
  {
   "cell_type": "markdown",
   "metadata": {},
   "source": [
    "Python uses `and`, `or`, and `not`, while JavaScript uses `&&`, `||`, and `!`.\n",
    "\n",
    "Python:"
   ]
  },
  {
   "cell_type": "code",
   "execution_count": null,
   "metadata": {},
   "outputs": [],
   "source": [
    "if x > 0 and x < 100:\n",
    "    print(\"x is between 0 and 100\")\n",
    "\n",
    "if not (x < 0 or x > 100):\n",
    "    print(\"x is between 0 and 100\")"
   ]
  },
  {
   "cell_type": "markdown",
   "metadata": {},
   "source": [
    "JavaScript:\n",
    "\n",
    "```javascript\n",
    "if (x > 0 && x < 100) {\n",
    "    console.log(\"x is between 0 and 100\");\n",
    "}\n",
    "\n",
    "if (!(x < 0 || x > 100)) {\n",
    "    console.log(\"x is between 0 and 100\");\n",
    "}\n",
    "```"
   ]
  },
  {
   "cell_type": "markdown",
   "metadata": {},
   "source": [
    "### 3.3 Best Practices\n",
    "\n",
    "- Use clear and descriptive variable names\n",
    "- Keep indentation consistent (usually 4 spaces in Python)\n",
    "- Use parentheses to group complex logical expressions for clarity\n",
    "\n",
    "## 4. f-Strings in Python\n",
    "\n",
    "f-Strings provide a concise and readable way to embed expressions inside string literals.\n",
    "\n",
    "### 4.1 Basic Syntax\n",
    "\n",
    "Python:"
   ]
  },
  {
   "cell_type": "code",
   "execution_count": null,
   "metadata": {},
   "outputs": [],
   "source": [
    "name = \"Alice\"\n",
    "age = 30\n",
    "print(f\"My name is {name} and I am {age} years old.\")"
   ]
  },
  {
   "cell_type": "markdown",
   "metadata": {},
   "source": [
    "JavaScript (template literals):\n",
    "\n",
    "```javascript\n",
    "let name = \"Alice\";\n",
    "let age = 30;\n",
    "console.log(`My name is ${name} and I am ${age} years old.`);\n",
    "```"
   ]
  },
  {
   "cell_type": "markdown",
   "metadata": {},
   "source": [
    "### 4.2 Formatting Numbers and Dates\n",
    "Python has a built-in datetime module to format dates.\n",
    "\n",
    "Python:"
   ]
  },
  {
   "cell_type": "code",
   "execution_count": null,
   "metadata": {},
   "outputs": [],
   "source": [
    "import datetime\n",
    "\n",
    "pi = 3.14159\n",
    "today = datetime.date.today()\n",
    "\n",
    "print(f\"Pi is approximately {pi:.2f}\")\n",
    "print(f\"Today's date is {today:%B %d, %Y}\")"
   ]
  },
  {
   "cell_type": "markdown",
   "metadata": {},
   "source": [
    "JavaScript:\n",
    "\n",
    "```javascript\n",
    "let pi = 3.14159;\n",
    "let today = new Date();\n",
    "\n",
    "console.log(`Pi is approximately ${pi.toFixed(2)}`);\n",
    "console.log(`Today's date is ${today.toLocaleDateString('en-US', { month: 'long', day: 'numeric', year: 'numeric' })}`);\n",
    "```"
   ]
  },
  {
   "cell_type": "markdown",
   "metadata": {},
   "source": [
    "### 4.3 Comparison with Other String Formatting Methods\n",
    "\n",
    "Python offers multiple ways to format strings:\n",
    "\n",
    "1. f-Strings (Python 3.6+)\n",
    "2. str.format() method\n",
    "3. % operator (older style)\n",
    "\n",
    "Example using different methods:"
   ]
  },
  {
   "cell_type": "code",
   "execution_count": null,
   "metadata": {},
   "outputs": [],
   "source": [
    "name = \"Alice\"\n",
    "age = 30\n",
    "\n",
    "# f-String\n",
    "print(f\"{name} is {age} years old.\")\n",
    "\n",
    "# str.format()\n",
    "print(\"{} is {} years old.\".format(name, age))\n",
    "\n",
    "# % operator \n",
    "print(\"%s is %d years old.\" % (name, age))"
   ]
  },
  {
   "cell_type": "markdown",
   "metadata": {},
   "source": [
    "f-Strings are generally preferred for their readability and performance.\n",
    "\n",
    "Try these [Exercises](exercises.ipynb) to test your understanding of what you've just learned."
   ]
  }
 ],
 "metadata": {
  "language_info": {
   "name": "python"
  }
 },
 "nbformat": 4,
 "nbformat_minor": 2
}
